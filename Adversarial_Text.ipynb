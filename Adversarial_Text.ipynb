{
  "nbformat": 4,
  "nbformat_minor": 0,
  "metadata": {
    "colab": {
      "provenance": []
    },
    "kernelspec": {
      "name": "python3",
      "display_name": "Python 3"
    },
    "language_info": {
      "name": "python"
    }
  },
  "cells": [
    {
      "cell_type": "code",
      "source": [
        "from transformers import AutoModelForCausalLM, AutoTokenizer\n",
        "import torch\n",
        "import torch.nn.functional as F\n",
        "from PIL import Image\n",
        "import torchvision\n",
        "import torchvision.transforms as transforms\n",
        "import numpy as np"
      ],
      "metadata": {
        "id": "IBdWbD6vgEU4"
      },
      "execution_count": 18,
      "outputs": []
    },
    {
      "cell_type": "code",
      "source": [
        "IMAGE_HEIGHT = 2160\n",
        "IMAGE_WIDTH = 3840\n",
        "COLORS = 3"
      ],
      "metadata": {
        "id": "HVE50ly_PODG"
      },
      "execution_count": 19,
      "outputs": []
    },
    {
      "cell_type": "code",
      "execution_count": 20,
      "metadata": {
        "id": "x04PEQu5l4DV"
      },
      "outputs": [],
      "source": [
        "model_name = \"TheBloke/Mistral-7B-Instruct-v0.2-GPTQ\"\n",
        "\n",
        "# load tokenizer\n",
        "tokenizer = AutoTokenizer.from_pretrained(model_name, use_fast=True)"
      ]
    },
    {
      "cell_type": "code",
      "source": [
        "encoded = tokenizer.encode(\"Hello world, how are you? Is this a lot?\", return_tensors=\"pt\")"
      ],
      "metadata": {
        "id": "1Ri5wRBJKeZD"
      },
      "execution_count": 21,
      "outputs": []
    },
    {
      "cell_type": "code",
      "source": [
        "encoded"
      ],
      "metadata": {
        "colab": {
          "base_uri": "https://localhost:8080/"
        },
        "id": "NwvcYn6wNahj",
        "outputId": "f45ad3c2-d399-4eb8-f7eb-45b9c20b803b"
      },
      "execution_count": 22,
      "outputs": [
        {
          "output_type": "execute_result",
          "data": {
            "text/plain": [
              "tensor([[    1, 22557,  1526, 28725,   910,   460,   368, 28804,  1691,   456,\n",
              "           264,  2055, 28804]])"
            ]
          },
          "metadata": {},
          "execution_count": 22
        }
      ]
    },
    {
      "cell_type": "code",
      "source": [
        "total_image_size = IMAGE_HEIGHT * IMAGE_WIDTH * COLORS\n",
        "difference = total_image_size - len(encoded.squeeze())\n",
        "if difference < 0: raise Exception(\"NOT IMPLEMENTED\")\n",
        "\n",
        "left_half = (difference) // 2\n",
        "right_half = left_half\n",
        "if left_half != (difference - left_half):\n",
        "  print(f\"difference: {difference-left_half}, half: {left_half}\")\n",
        "  right_half = difference - left_half\n",
        "\n",
        "normalized_encoding = encoded.to(torch.float64) / (255 * total_image_size)\n",
        "padded = F.pad(normalized_encoding, [left_half, right_half])\n",
        "reshaped_padded = padded.reshape((COLORS, IMAGE_HEIGHT, IMAGE_WIDTH))"
      ],
      "metadata": {
        "colab": {
          "base_uri": "https://localhost:8080/"
        },
        "id": "d7OnMJfuNUFz",
        "outputId": "c4eb878a-f824-4cc1-f442-e1db3bca0d3b"
      },
      "execution_count": 23,
      "outputs": [
        {
          "output_type": "stream",
          "name": "stdout",
          "text": [
            "difference: 12441594, half: 12441593\n"
          ]
        }
      ]
    },
    {
      "cell_type": "code",
      "source": [
        "(normalized_encoding * (255 * total_image_size)).to(torch.int32)"
      ],
      "metadata": {
        "colab": {
          "base_uri": "https://localhost:8080/"
        },
        "id": "WRXf6A3Yc2hy",
        "outputId": "8f7438df-6863-4179-aca6-30bfd59375d3"
      },
      "execution_count": 24,
      "outputs": [
        {
          "output_type": "execute_result",
          "data": {
            "text/plain": [
              "tensor([[    1, 22557,  1526, 28724,   910,   459,   368, 28804,  1691,   456,\n",
              "           264,  2055, 28804]], dtype=torch.int32)"
            ]
          },
          "metadata": {},
          "execution_count": 24
        }
      ]
    },
    {
      "cell_type": "code",
      "source": [
        "tokenizer.decode((normalized_encoding * (255 * total_image_size)).to(torch.int32).squeeze().tolist())"
      ],
      "metadata": {
        "colab": {
          "base_uri": "https://localhost:8080/",
          "height": 35
        },
        "id": "R5q99QwrRFBs",
        "outputId": "87ea42e1-33ad-420d-f88f-9138022c1546"
      },
      "execution_count": 25,
      "outputs": [
        {
          "output_type": "execute_result",
          "data": {
            "text/plain": [
              "'<s> Hello worldy how not you? Is this a lot?'"
            ],
            "application/vnd.google.colaboratory.intrinsic+json": {
              "type": "string"
            }
          },
          "metadata": {},
          "execution_count": 25
        }
      ]
    },
    {
      "cell_type": "markdown",
      "source": [
        "# Image Concatenation"
      ],
      "metadata": {
        "id": "a3cZILaIgQI5"
      }
    },
    {
      "cell_type": "code",
      "source": [
        "transform = transforms.Compose([transforms.PILToTensor()])\n",
        "\n",
        "image = transform(Image.open(\"BackgroundPicture1.jpg\"))"
      ],
      "metadata": {
        "id": "XFRJ0yPcgSH8"
      },
      "execution_count": 26,
      "outputs": []
    },
    {
      "cell_type": "code",
      "source": [
        "image.shape"
      ],
      "metadata": {
        "colab": {
          "base_uri": "https://localhost:8080/"
        },
        "id": "YtatRbwhhSoK",
        "outputId": "c343450c-6999-4fb0-9995-c80cf4736031"
      },
      "execution_count": 27,
      "outputs": [
        {
          "output_type": "execute_result",
          "data": {
            "text/plain": [
              "torch.Size([3, 2160, 3840])"
            ]
          },
          "metadata": {},
          "execution_count": 27
        }
      ]
    },
    {
      "cell_type": "code",
      "source": [
        "(image + reshaped_padded).numpy().astype(np.uint8).shape"
      ],
      "metadata": {
        "colab": {
          "base_uri": "https://localhost:8080/"
        },
        "id": "4jLq24Ewi3Dh",
        "outputId": "de3f97b8-d7ae-4a5b-d9c9-15813f15e8c5"
      },
      "execution_count": 28,
      "outputs": [
        {
          "output_type": "execute_result",
          "data": {
            "text/plain": [
              "(3, 2160, 3840)"
            ]
          },
          "metadata": {},
          "execution_count": 28
        }
      ]
    },
    {
      "cell_type": "code",
      "source": [
        "# result = Image.fromarray((image + reshaped_padded).numpy().astype(np.uint8).reshape(IMAGE_WIDTH, IMAGE_HEIGHT, COLORS))\n",
        "# reshaped_padded[reshaped_padded != 0] = 200\n",
        "result = transforms.ToPILImage()((image + reshaped_padded.to(torch.uint8)))\n",
        "result.save(\"resultTest.jpg\")"
      ],
      "metadata": {
        "id": "PDbXNLyNhlhO"
      },
      "execution_count": 29,
      "outputs": []
    },
    {
      "cell_type": "code",
      "source": [
        "# TODO: Converting to uint8 causes all values to zero out. How do we avoid this?\n",
        "reshaped_padded[reshaped_padded != 0].to(torch.uint8)"
      ],
      "metadata": {
        "colab": {
          "base_uri": "https://localhost:8080/"
        },
        "id": "ij6dPldiMOjj",
        "outputId": "95a3f0a6-d8c6-4d0a-94a9-7d6d0e3606d4"
      },
      "execution_count": 30,
      "outputs": [
        {
          "output_type": "execute_result",
          "data": {
            "text/plain": [
              "tensor([0, 0, 0, 0, 0, 0, 0, 0, 0, 0, 0, 0, 0], dtype=torch.uint8)"
            ]
          },
          "metadata": {},
          "execution_count": 30
        }
      ]
    },
    {
      "cell_type": "code",
      "source": [
        "test = (transforms.PILToTensor()(result) - image)\n",
        "test[test != 0]"
      ],
      "metadata": {
        "colab": {
          "base_uri": "https://localhost:8080/"
        },
        "id": "hih7XFnfLjVG",
        "outputId": "2b272148-f981-4535-86a5-d143d03e0609"
      },
      "execution_count": 31,
      "outputs": [
        {
          "output_type": "execute_result",
          "data": {
            "text/plain": [
              "tensor([], dtype=torch.uint8)"
            ]
          },
          "metadata": {},
          "execution_count": 31
        }
      ]
    }
  ]
}