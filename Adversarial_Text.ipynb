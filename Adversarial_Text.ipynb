{
  "nbformat": 4,
  "nbformat_minor": 0,
  "metadata": {
    "colab": {
      "provenance": []
    },
    "kernelspec": {
      "name": "python3",
      "display_name": "Python 3"
    },
    "language_info": {
      "name": "python"
    }
  },
  "cells": [
    {
      "cell_type": "code",
      "source": [
        "IMAGE_HEIGHT = 242\n",
        "IMAGE_WIDTH = 242"
      ],
      "metadata": {
        "id": "HVE50ly_PODG"
      },
      "execution_count": 70,
      "outputs": []
    },
    {
      "cell_type": "code",
      "execution_count": 26,
      "metadata": {
        "id": "x04PEQu5l4DV"
      },
      "outputs": [],
      "source": [
        "from transformers import AutoModelForCausalLM, AutoTokenizer\n",
        "import torch\n",
        "import torch.nn.functional as F\n",
        "\n",
        "model_name = \"TheBloke/Mistral-7B-Instruct-v0.2-GPTQ\"\n",
        "\n",
        "# load tokenizer\n",
        "tokenizer = AutoTokenizer.from_pretrained(model_name, use_fast=True)"
      ]
    },
    {
      "cell_type": "code",
      "source": [
        "encoded = tokenizer.encode(\"Hello world, how are you? Is this a lot?\", return_tensors=\"pt\")"
      ],
      "metadata": {
        "id": "1Ri5wRBJKeZD"
      },
      "execution_count": 71,
      "outputs": []
    },
    {
      "cell_type": "code",
      "source": [
        "encoded"
      ],
      "metadata": {
        "colab": {
          "base_uri": "https://localhost:8080/"
        },
        "id": "NwvcYn6wNahj",
        "outputId": "8896f59d-c74b-4359-ee6c-669899aad0ea"
      },
      "execution_count": 72,
      "outputs": [
        {
          "output_type": "execute_result",
          "data": {
            "text/plain": [
              "tensor([[    1, 22557,  1526, 28725,   910,   460,   368, 28804,  1691,   456,\n",
              "           264,  2055, 28804]])"
            ]
          },
          "metadata": {},
          "execution_count": 72
        }
      ]
    },
    {
      "cell_type": "code",
      "source": [
        "total_image_size = IMAGE_HEIGHT * IMAGE_WIDTH\n",
        "difference = total_image_size - len(encoded.squeeze())\n",
        "if difference < 0: raise Exception(\"NOT IMPLEMENTED\")\n",
        "\n",
        "left_half = (difference) // 2\n",
        "right_half = left_half\n",
        "if left_half != (difference - left_half):\n",
        "  print(f\"difference: {difference-left_half}, half: {left_half}\")\n",
        "  right_half = difference - left_half\n",
        "\n",
        "normalized_encoding = encoded.to(torch.float64) / (255 * total_image_size)\n",
        "padded = F.pad(normalized_encoding, [left_half, right_half])\n",
        "reshaped_padded = padded.reshape((IMAGE_HEIGHT, IMAGE_WIDTH))"
      ],
      "metadata": {
        "colab": {
          "base_uri": "https://localhost:8080/"
        },
        "id": "d7OnMJfuNUFz",
        "outputId": "36d3551b-34b2-4027-ba93-a3f1d087d78a"
      },
      "execution_count": 93,
      "outputs": [
        {
          "output_type": "stream",
          "name": "stdout",
          "text": [
            "difference: 29276, half: 29275\n"
          ]
        }
      ]
    },
    {
      "cell_type": "code",
      "source": [
        "(normalized_encoding * (255 * total_image_size)).to(torch.int32)"
      ],
      "metadata": {
        "colab": {
          "base_uri": "https://localhost:8080/"
        },
        "id": "WRXf6A3Yc2hy",
        "outputId": "ae101e78-ca86-4fba-cb11-a46165bb7dfa"
      },
      "execution_count": 94,
      "outputs": [
        {
          "output_type": "execute_result",
          "data": {
            "text/plain": [
              "tensor([[    1, 22557,  1526, 28725,   910,   460,   368, 28804,  1691,   456,\n",
              "           264,  2055, 28804]], dtype=torch.int32)"
            ]
          },
          "metadata": {},
          "execution_count": 94
        }
      ]
    },
    {
      "cell_type": "code",
      "source": [
        "tokenizer.decode((normalized_encoding * (255 * total_image_size)).to(torch.int32).squeeze().tolist())"
      ],
      "metadata": {
        "colab": {
          "base_uri": "https://localhost:8080/",
          "height": 35
        },
        "id": "R5q99QwrRFBs",
        "outputId": "93d11e95-6f40-48cf-b5d3-113408841aef"
      },
      "execution_count": 95,
      "outputs": [
        {
          "output_type": "execute_result",
          "data": {
            "text/plain": [
              "'<s> Hello world, how are you? Is this a lot?'"
            ],
            "application/vnd.google.colaboratory.intrinsic+json": {
              "type": "string"
            }
          },
          "metadata": {},
          "execution_count": 95
        }
      ]
    }
  ]
}