{
  "nbformat": 4,
  "nbformat_minor": 0,
  "metadata": {
    "colab": {
      "provenance": []
    },
    "kernelspec": {
      "name": "python3",
      "display_name": "Python 3"
    },
    "language_info": {
      "name": "python"
    }
  },
  "cells": [
    {
      "cell_type": "code",
      "source": [
        "from transformers import AutoModelForCausalLM, AutoTokenizer\n",
        "import torch\n",
        "import torch.nn.functional as F\n",
        "from PIL import Image\n",
        "import torchvision\n",
        "import torchvision.transforms as transforms\n",
        "import numpy as np"
      ],
      "metadata": {
        "id": "IBdWbD6vgEU4"
      },
      "execution_count": 83,
      "outputs": []
    },
    {
      "cell_type": "code",
      "source": [
        "IMAGE_HEIGHT = 2160\n",
        "IMAGE_WIDTH = 3840\n",
        "COLORS = 3"
      ],
      "metadata": {
        "id": "HVE50ly_PODG"
      },
      "execution_count": 84,
      "outputs": []
    },
    {
      "cell_type": "code",
      "execution_count": 85,
      "metadata": {
        "id": "x04PEQu5l4DV"
      },
      "outputs": [],
      "source": [
        "model_name = \"TheBloke/Mistral-7B-Instruct-v0.2-GPTQ\"\n",
        "\n",
        "# load tokenizer\n",
        "tokenizer = AutoTokenizer.from_pretrained(model_name, use_fast=True)"
      ]
    },
    {
      "cell_type": "code",
      "source": [
        "encoded = tokenizer.encode(\"Hello world, how are you? Is this a lot?\", return_tensors=\"pt\")"
      ],
      "metadata": {
        "id": "1Ri5wRBJKeZD"
      },
      "execution_count": 86,
      "outputs": []
    },
    {
      "cell_type": "code",
      "source": [
        "encoded"
      ],
      "metadata": {
        "colab": {
          "base_uri": "https://localhost:8080/"
        },
        "id": "NwvcYn6wNahj",
        "outputId": "679feccf-e6c0-4981-90c9-e5882b1c0a97"
      },
      "execution_count": 87,
      "outputs": [
        {
          "output_type": "execute_result",
          "data": {
            "text/plain": [
              "tensor([[    1, 22557,  1526, 28725,   910,   460,   368, 28804,  1691,   456,\n",
              "           264,  2055, 28804]])"
            ]
          },
          "metadata": {},
          "execution_count": 87
        }
      ]
    },
    {
      "cell_type": "code",
      "source": [
        "total_image_size = IMAGE_HEIGHT * IMAGE_WIDTH * COLORS\n",
        "difference = total_image_size - len(encoded.squeeze())\n",
        "if difference < 0: raise Exception(\"NOT IMPLEMENTED\")\n",
        "\n",
        "left_half = (difference) // 2\n",
        "right_half = left_half\n",
        "if left_half != (difference - left_half):\n",
        "  print(f\"difference: {difference-left_half}, half: {left_half}\")\n",
        "  right_half = difference - left_half\n",
        "\n",
        "normalized_encoding = encoded.to(torch.float64) / (255 * total_image_size)\n",
        "padded = F.pad(normalized_encoding, [left_half, right_half])\n",
        "reshaped_padded = padded.reshape((COLORS, IMAGE_HEIGHT, IMAGE_WIDTH))"
      ],
      "metadata": {
        "colab": {
          "base_uri": "https://localhost:8080/"
        },
        "id": "d7OnMJfuNUFz",
        "outputId": "3f1886f5-c2ea-4ce6-bfa8-81a6c92efb6c"
      },
      "execution_count": 88,
      "outputs": [
        {
          "output_type": "stream",
          "name": "stdout",
          "text": [
            "difference: 12441594, half: 12441593\n"
          ]
        }
      ]
    },
    {
      "cell_type": "code",
      "source": [
        "(normalized_encoding * (255 * total_image_size)).to(torch.int32)"
      ],
      "metadata": {
        "colab": {
          "base_uri": "https://localhost:8080/"
        },
        "id": "WRXf6A3Yc2hy",
        "outputId": "c3669cba-3932-48a1-f843-49b278329c87"
      },
      "execution_count": 89,
      "outputs": [
        {
          "output_type": "execute_result",
          "data": {
            "text/plain": [
              "tensor([[    1, 22557,  1526, 28724,   910,   459,   368, 28804,  1691,   456,\n",
              "           264,  2055, 28804]], dtype=torch.int32)"
            ]
          },
          "metadata": {},
          "execution_count": 89
        }
      ]
    },
    {
      "cell_type": "code",
      "source": [
        "tokenizer.decode((normalized_encoding * (255 * total_image_size)).to(torch.int32).squeeze().tolist())"
      ],
      "metadata": {
        "colab": {
          "base_uri": "https://localhost:8080/",
          "height": 35
        },
        "id": "R5q99QwrRFBs",
        "outputId": "7d040e90-af37-4c65-f660-910910d84b51"
      },
      "execution_count": 90,
      "outputs": [
        {
          "output_type": "execute_result",
          "data": {
            "text/plain": [
              "'<s> Hello worldy how not you? Is this a lot?'"
            ],
            "application/vnd.google.colaboratory.intrinsic+json": {
              "type": "string"
            }
          },
          "metadata": {},
          "execution_count": 90
        }
      ]
    },
    {
      "cell_type": "markdown",
      "source": [
        "# Image Concatenation"
      ],
      "metadata": {
        "id": "a3cZILaIgQI5"
      }
    },
    {
      "cell_type": "code",
      "source": [
        "transform = transforms.Compose([transforms.PILToTensor()])\n",
        "\n",
        "image = transform(Image.open(\"BackgroundPicture1.jpg\"))"
      ],
      "metadata": {
        "id": "XFRJ0yPcgSH8"
      },
      "execution_count": 91,
      "outputs": []
    },
    {
      "cell_type": "code",
      "source": [
        "image.shape"
      ],
      "metadata": {
        "colab": {
          "base_uri": "https://localhost:8080/"
        },
        "id": "YtatRbwhhSoK",
        "outputId": "764db1fd-62cf-4d92-e8c2-1bf33512f7ef"
      },
      "execution_count": 92,
      "outputs": [
        {
          "output_type": "execute_result",
          "data": {
            "text/plain": [
              "torch.Size([3, 2160, 3840])"
            ]
          },
          "metadata": {},
          "execution_count": 92
        }
      ]
    },
    {
      "cell_type": "code",
      "source": [
        "(image + reshaped_padded).numpy().astype(np.uint8).shape"
      ],
      "metadata": {
        "colab": {
          "base_uri": "https://localhost:8080/"
        },
        "id": "4jLq24Ewi3Dh",
        "outputId": "574e8105-060f-4099-d648-cb209cb70bcc"
      },
      "execution_count": 93,
      "outputs": [
        {
          "output_type": "execute_result",
          "data": {
            "text/plain": [
              "(3, 2160, 3840)"
            ]
          },
          "metadata": {},
          "execution_count": 93
        }
      ]
    },
    {
      "cell_type": "code",
      "source": [
        "# result = Image.fromarray((image + reshaped_padded).numpy().astype(np.uint8).reshape(IMAGE_WIDTH, IMAGE_HEIGHT, COLORS))\n",
        "reshaped_padded[reshaped_padded != 0] = 200\n",
        "result = transforms.ToPILImage()((image + reshaped_padded.to(torch.uint8)))\n",
        "result.save(\"resultTest.jpg\")"
      ],
      "metadata": {
        "id": "PDbXNLyNhlhO"
      },
      "execution_count": 94,
      "outputs": []
    },
    {
      "cell_type": "code",
      "source": [
        "reshaped_padded[reshaped_padded != 0].to(torch.uint8)"
      ],
      "metadata": {
        "colab": {
          "base_uri": "https://localhost:8080/"
        },
        "id": "ij6dPldiMOjj",
        "outputId": "f210891e-ca5b-443e-927c-c422986af197"
      },
      "execution_count": 101,
      "outputs": [
        {
          "output_type": "execute_result",
          "data": {
            "text/plain": [
              "tensor([200, 200, 200, 200, 200, 200, 200, 200, 200, 200, 200, 200, 200],\n",
              "       dtype=torch.uint8)"
            ]
          },
          "metadata": {},
          "execution_count": 101
        }
      ]
    },
    {
      "cell_type": "code",
      "source": [
        "test = (image -  transforms.PILToTensor()(result))\n",
        "test[test != 0]"
      ],
      "metadata": {
        "colab": {
          "base_uri": "https://localhost:8080/"
        },
        "id": "hih7XFnfLjVG",
        "outputId": "c0eea75d-2cb9-4e0a-f871-0ea6712e1617"
      },
      "execution_count": 99,
      "outputs": [
        {
          "output_type": "execute_result",
          "data": {
            "text/plain": [
              "tensor([56, 56, 56, 56, 56, 56, 56, 56, 56, 56, 56, 56, 56], dtype=torch.uint8)"
            ]
          },
          "metadata": {},
          "execution_count": 99
        }
      ]
    }
  ]
}